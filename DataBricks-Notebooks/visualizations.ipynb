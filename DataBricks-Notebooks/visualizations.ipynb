<html><head><meta name="color-scheme" content="light dark"></head><body><pre style="word-wrap: break-word; white-space: pre-wrap;">{
 "cells": [
  {
   "cell_type": "code",
   "execution_count": 0,
   "metadata": {
    "application/vnd.databricks.v1+cell": {
     "cellMetadata": {
      "byteLimit": 2048000,
      "implicitDf": true,
      "rowLimit": 10000
     },
     "inputWidgets": {},
     "nuid": "aeea03cf-be00-4868-8c4e-ca042f1baf74",
     "showTitle": false,
     "tableResultSettingsMap": {},
     "title": ""
    }
   },
   "outputs": [],
   "source": [
    "%sql\n",
    "\n",
    "SELECT distinct geometry.coordinates[0] x, geometry.coordinates[1] y, stationId\n",
    "from silverlijk.observations\n"
   ]
  },
  {
   "cell_type": "code",
   "execution_count": 0,
   "metadata": {
    "application/vnd.databricks.v1+cell": {
     "cellMetadata": {
      "byteLimit": 2048000,
      "implicitDf": true,
      "rowLimit": 10000
     },
     "inputWidgets": {},
     "nuid": "bc0d620f-f97b-407a-bdd6-0471aa3bb5fa",
     "showTitle": false,
     "tableResultSettingsMap": {},
     "title": ""
    }
   },
   "outputs": [],
   "source": [
    "%sql\n",
    "\n",
    "with lasties as (select stationId, max(timestamp) as last_time from silverlijk.observations group by stationId)\n",
    "SELECT \n",
    "geometry.coordinates[0] x, geometry.coordinates[1] y,\n",
    "barometricPressure.value as PressurePa,\n",
    "dewpoint.value as DewPointC,\n",
    "elevation.value as ElevationM,\n",
    "heatIndex.value as HeatIndexC,\n",
    "windChill.value as WindChillC,\n",
    "windSpeed.value as WindSpeedKmh,\n",
    "precipitationLastHour.value as PrecipitationLastHourmm,\n",
    "precipitationLast3Hours.value as PrecipitationLast3Hoursmm,\n",
    "precipitationLast6Hours.value as PrecipitationLast6Hoursmm,\n",
    "relativeHumidity.value as RelativeHumidityPercent,\n",
    "seaLevelPressure.value as SeaLevelPressurePa,\n",
    "temperature.value as TemperatureC,\n",
    "visibility.value as VisibilityKm,\n",
    "windDirection.value as WindDirectionDeg,\n",
    "stationName,\n",
    "textDescription,\n",
    "convert_timezone('UTC', 'EST', timestamp) as timestampEST\n",
    "from silverlijk.observations obs \n",
    "join lasties ls on obs.stationId = ls.stationId and obs.timestamp = ls.last_time\n",
    "limit 10\n",
    "\n"
   ]
  }
 ],
 "metadata": {
  "application/vnd.databricks.v1+notebook": {
   "computePreferences": null,
   "dashboards": [],
   "environmentMetadata": {
    "base_environment": "",
    "environment_version": "3"
   },
   "inputWidgetPreferences": null,
   "language": "python",
   "notebookMetadata": {
    "mostRecentlyExecutedCommandWithImplicitDF": {
     "commandId": 4532941738150466,
     "dataframes": [
      "_sqldf"
     ]
    },
    "pythonIndentUnit": 4
   },
   "notebookName": "Visualizations",
   "widgets": {}
  },
  "language_info": {
   "name": "python"
  }
 },
 "nbformat": 4,
 "nbformat_minor": 0
}</pre></body></html>
