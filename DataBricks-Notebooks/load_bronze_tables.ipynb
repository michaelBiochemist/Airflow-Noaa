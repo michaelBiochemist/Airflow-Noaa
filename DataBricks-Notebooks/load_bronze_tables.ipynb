<html><head><meta name="color-scheme" content="light dark"></head><body><pre style="word-wrap: break-word; white-space: pre-wrap;">{
 "cells": [
  {
   "cell_type": "code",
   "execution_count": 0,
   "metadata": {
    "application/vnd.databricks.v1+cell": {
     "cellMetadata": {
      "byteLimit": 2048000,
      "rowLimit": 10000
     },
     "inputWidgets": {},
     "nuid": "18fdf885-3b92-46b8-9a21-425906016826",
     "showTitle": false,
     "tableResultSettingsMap": {},
     "title": ""
    }
   },
   "outputs": [],
   "source": [
    "from datetime import datetime \n",
    "import os\n",
    "\n",
    "params = dbutils.widgets.getAll()\n",
    "#print(a)\n",
    "constants = {\n",
    "    'useday': datetime.now().strftime(\"%Y%m%d\"),\n",
    "    'directories': [\"alerts\", \"stations\", \"zones\"],\n",
    "    'volume_root': \"/Volumes/workspace/default/noaa\"\n",
    "}\n",
    "\n",
    "for constant_key in constants.keys():\n",
    "    if constant_key in params.keys():\n",
    "        constants[constant_key] = params[constant_key]\n",
    "\n",
    "directories = constants['directories']\n",
    "if type(directories) is str:\n",
    "    directories = [directories]\n",
    "volume_root = constants['volume_root']\n",
    "useday = constants['useday']"
   ]
  },
  {
   "cell_type": "code",
   "execution_count": 0,
   "metadata": {
    "application/vnd.databricks.v1+cell": {
     "cellMetadata": {
      "byteLimit": 2048000,
      "rowLimit": 10000
     },
     "inputWidgets": {},
     "nuid": "643597bf-c488-48ff-b36f-1f8d874c0bc6",
     "showTitle": false,
     "tableResultSettingsMap": {},
     "title": ""
    }
   },
   "outputs": [],
   "source": [
    "print(list(directories))"
   ]
  },
  {
   "cell_type": "code",
   "execution_count": 0,
   "metadata": {
    "application/vnd.databricks.v1+cell": {
     "cellMetadata": {
      "byteLimit": 2048000,
      "rowLimit": 10000
     },
     "inputWidgets": {},
     "nuid": "2e3f1770-a100-461f-9040-5596953cd3d8",
     "showTitle": false,
     "tableResultSettingsMap": {},
     "title": ""
    }
   },
   "outputs": [],
   "source": [
    "'''\n",
    "from pyspark.sql.session import SparkSession\n",
    "from pyspark.sql import DataFrame\n",
    "\n",
    "def schema_diff(spark: SparkSession, df_1: DataFrame, df_2: DataFrame):\n",
    "    s1 = spark.createDataFrame(df_1.dtypes, [\"d1_name\", \"d1_type\"])\n",
    "    s2 = spark.createDataFrame(df_2.dtypes, [\"d2_name\", \"d2_type\"])\n",
    "    difference = (\n",
    "        s1.join(s2, (s1[\"d1_name\"] == s2[\"d2_name\"]) &amp; (s1[\"d1_type\"] == s2[\"d2_type\"]), how=\"outer\")\n",
    "        .where(s1.d1_type.isNull() | s2.d2_type.isNull())\n",
    "        .select(s1.d1_name, s1.d1_type, s2.d2_name, s2.d2_type)\n",
    "        .fillna(\"\")\n",
    "    )\n",
    "    return difference\n",
    "'''"
   ]
  },
  {
   "cell_type": "code",
   "execution_count": 0,
   "metadata": {
    "application/vnd.databricks.v1+cell": {
     "cellMetadata": {
      "byteLimit": 2048000,
      "rowLimit": 10000
     },
     "inputWidgets": {},
     "nuid": "3e50f938-1f4d-46a7-b031-e43a734ecb09",
     "showTitle": false,
     "tableResultSettingsMap": {},
     "title": ""
    }
   },
   "outputs": [],
   "source": [
    "for directory in directories:\n",
    "  contents = list(filter(lambda x: x[:8]==useday, os.listdir(f\"{volume_root}/{directory}\")))\n",
    "  spark.sql(f\"DROP TABLE IF EXISTS bronzey.{directory}\")\n",
    "  df = spark.read.option(\"multiLine\", True).json(f\"{volume_root}/{directory}/*.json\")\n",
    "  df.write.saveAsTable(f\"bronzey.{directory}\")\n",
    "\n"
   ]
  },
  {
   "cell_type": "code",
   "execution_count": 0,
   "metadata": {
    "application/vnd.databricks.v1+cell": {
     "cellMetadata": {
      "byteLimit": 2048000,
      "rowLimit": 10000
     },
     "inputWidgets": {},
     "nuid": "f427a1b4-b71e-4f01-9b6c-8921d730ce7f",
     "showTitle": false,
     "tableResultSettingsMap": {
      "0": {
       "dataGridStateBlob": "{\"version\":1,\"tableState\":{\"columnPinning\":{\"left\":[\"#row_number#\"],\"right\":[]},\"columnSizing\":{\"count(1)\":217},\"columnVisibility\":{}},\"settings\":{\"columns\":{}},\"syncTimestamp\":1756309320283}",
       "filterBlob": null,
       "queryPlanFiltersBlob": null,
       "tableResultIndex": 0
      }
     },
     "title": ""
    }
   },
   "outputs": [],
   "source": [
    "df = spark.sql(f\"SHOW tables in bronzey\")\n",
    "df.display()"
   ]
  }
 ],
 "metadata": {
  "application/vnd.databricks.v1+notebook": {
   "computePreferences": null,
   "dashboards": [],
   "environmentMetadata": {
    "base_environment": "",
    "environment_version": "3"
   },
   "inputWidgetPreferences": null,
   "language": "python",
   "notebookMetadata": {
    "pythonIndentUnit": 4
   },
   "notebookName": "Load Bronze Tables",
   "widgets": {}
  },
  "language_info": {
   "name": "python"
  }
 },
 "nbformat": 4,
 "nbformat_minor": 0
}</pre></body></html>
